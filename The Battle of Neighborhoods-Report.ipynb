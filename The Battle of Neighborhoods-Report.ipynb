{
 "cells": [
  {
   "cell_type": "markdown",
   "metadata": {},
   "source": [
    "# A New University in UAE"
   ]
  },
  {
   "cell_type": "markdown",
   "metadata": {},
   "source": [
    "## 1. Introduction"
   ]
  },
  {
   "cell_type": "markdown",
   "metadata": {},
   "source": [
    "### 1.1 Background"
   ]
  },
  {
   "cell_type": "markdown",
   "metadata": {},
   "source": [
    "Recenlty there has been a sharp increase of investments in the education sector in UAE. With the increase in demand and variety of education options available, people are being more inclined towards investing their money in opening new schools, colleges or universities."
   ]
  },
  {
   "cell_type": "markdown",
   "metadata": {},
   "source": [
    "### 1.2 Problem"
   ]
  },
  {
   "cell_type": "markdown",
   "metadata": {},
   "source": [
    "A client is interested in investing in UAE by opening up a branch of a famous UK University. To avoid competition, he believes this university should be opened in an area where there are least number of other universities. Out of seven Emirates in UAE, the client is only interested in Dubai, Sharjah and Abu Dhabi.  As a Data Scientist , it is my responsibilty to analyze the data of these three Emirates and suggest him the best city to open his new university."
   ]
  },
  {
   "cell_type": "markdown",
   "metadata": {},
   "source": [
    "## 2. Data"
   ]
  },
  {
   "cell_type": "markdown",
   "metadata": {},
   "source": [
    "### 2.1 Data Collection"
   ]
  },
  {
   "cell_type": "markdown",
   "metadata": {},
   "source": [
    "After deep consideration to solve this problem, I decided to use Foursquare. \n",
    "\n",
    "Foursquare will give me data of the locations of universities in Dubai, Sharjah and Abu Dhabi. I can then count the number of universities in these locations. This can help in estimating the ideal location of a new setup."
   ]
  },
  {
   "cell_type": "markdown",
   "metadata": {},
   "source": [
    "## 3. Methadology"
   ]
  },
  {
   "cell_type": "markdown",
   "metadata": {},
   "source": [
    "The main aim of the research here is to asses which one of the three cities (Dubai, Abu Dhabi and Sharjah) would have the lowest number of Universities. The client is interested to start up a university in an area that has the lowest number so as to have a higher demand for its educational programs. \n",
    "\n",
    "In conducting my reseach below are the following steps that I undertook:\n"
   ]
  },
  {
   "cell_type": "markdown",
   "metadata": {},
   "source": [
    "### 3.1 Importing Librabries"
   ]
  },
  {
   "cell_type": "markdown",
   "metadata": {},
   "source": [
    "The following Libraries were imported and used:\n",
    "1. Numpy to handle data in a vectorized manner\n",
    "2. Panda for data analysis \n",
    "3. Folium for rendering maps\n",
    "4. json_normalize to tranform JSON file into a pandas dataframe \n",
    "5. requests library to handle requests"
   ]
  },
  {
   "cell_type": "markdown",
   "metadata": {},
   "source": [
    "### 3.2 Foursquare API"
   ]
  },
  {
   "cell_type": "markdown",
   "metadata": {},
   "source": [
    "Four Square API was used to search the number of universities present in the three cities i.e. Dubai, Sharjah and Abu Dhabi. The credentials which are Foursqaure Client ID, Client secret and Version were used to establish connection with Foursquare.\n",
    "\n",
    "Then the venues channel was incorporated to search the specific cities of UAE. I used the near query to get venues in the cities. Also, the CategoryID  was used to set it to display only Universities in my data. Foursquare limits us to maximum of 100 venues per query.\n",
    "\n",
    "An Example of my requests is shown below :\n",
    "https://api.foursquare.com/v2/venues/explore?&client_id=&client_secret=&v=20180605&Dubai,DXB&limit=100&categoryId=4bf58dd8d48988d1ae941735\n",
    "\n",
    "Please note that in th eabove example, 4bf58dd8d48988d1ae941735 is the  Category Id of various Universites present in the specified location.\n",
    "\n"
   ]
  },
  {
   "cell_type": "markdown",
   "metadata": {},
   "source": [
    "### 3.3 Folium"
   ]
  },
  {
   "cell_type": "markdown",
   "metadata": {},
   "source": [
    "The request for the 3 cities under observation was reparetd to obtain their Universities. I saved the name and coordinate data only from the result and plotted them on the map for visual inspection. It was decided to use blue dots to show the representation of the universities on the map as the map was on a brown background for ease of locating the individual dots. \n",
    "The following number of universities were identified for each of the cities:\n",
    "1.\tTotal number of Universities in Dubai, DXB =  66 \n",
    "2.\tTotal number of Universities in Abu Dhabi, AUH =  16 \n",
    "3.\tTotal number of Universities in Sharjah, SHJ =  39 \n",
    "\n",
    "![alt text](https://github.com/aamnakhalid19/Coursera_Capstone/blob/master/Screen%20Shot%202020-08-06%20at%2011.13.08%20AM.png)\n",
    "\n",
    "![alt text](https://github.com/aamnakhalid19/Coursera_Capstone/blob/master/Screen%20Shot%202020-08-06%20at%2011.13.22%20AM.png)\n",
    "\n",
    "![alt text](https://github.com/aamnakhalid19/Coursera_Capstone/blob/master/Screen%20Shot%202020-08-06%20at%2011.13.29%20AM.png)\n",
    "\n",
    "\n",
    "\n"
   ]
  },
  {
   "cell_type": "markdown",
   "metadata": {},
   "source": [
    "The results obtained were generalized. Therefore to get an indicator of the density of Universities from the center of city, I calculated a center coordinate of the venues to get the mean longitude and latitude values. This would help the client to get a better approximation on the distance of these universities from the centre of the city and thus a better decision can be reached. \n",
    "\n",
    "Therefore the mean of the Euclidean distance was calculated from each venue to the mean coordinates. Green indicator arrows was used to display distance from mean coordinates. Below are the maps obtained after incorporating indicators.\n",
    "\n",
    "![alt text](https://github.com/aamnakhalid19/Coursera_Capstone/blob/master/Screen%20Shot%202020-08-06%20at%2011.13.47%20AM.png)\n",
    "\n",
    "![alt text](https://github.com/aamnakhalid19/Coursera_Capstone/blob/master/Screen%20Shot%202020-08-06%20at%2011.14.11%20AM.png)\n",
    "\n",
    "![alt text](https://github.com/aamnakhalid19/Coursera_Capstone/blob/master/Screen%20Shot%202020-08-06%20at%2011.14.28%20AM.png)\n",
    "\n"
   ]
  },
  {
   "cell_type": "markdown",
   "metadata": {},
   "source": [
    "## 4. Results"
   ]
  },
  {
   "cell_type": "markdown",
   "metadata": {},
   "source": [
    "As per the research analysis it was identified that the perfect location for the client to open a university would be in Abu Dhabi. The following are the reasons:\n",
    "\n",
    "1.\t**Frequency**:\n",
    "    The number of universities in Abu Dhabi is less as compared to Dubai and Sharjah\n",
    "2.\t**Distance from City Centre**: \n",
    "    The universities that are located in Abu Dhabi seems to be at a greater distance from the city centre. They do  appear to be in a scattered way across the city. \n",
    "3.\t**City’s Significance**: \n",
    "    As Abu Dhabi is the capital of the country, there would be greater focus on it as compared to other cities. \n",
    "\n"
   ]
  },
  {
   "cell_type": "markdown",
   "metadata": {},
   "source": [
    "## 5. Discussion"
   ]
  },
  {
   "cell_type": "markdown",
   "metadata": {},
   "source": [
    "Despite Abu Dhabi being the capital of the country, the number of universities present are very less compared to its geographical area as measured by its mean coordinates. The results indicate strong requirement of opening new educational universties in this capital city of UAE."
   ]
  },
  {
   "cell_type": "markdown",
   "metadata": {},
   "source": [
    "## 6. Conclusion"
   ]
  },
  {
   "cell_type": "markdown",
   "metadata": {},
   "source": [
    "Based upon the data received from Foursqaure API and after visualizing on Folium, it can be concluded that Abu Dhabi would be the ideal place for the client to set up the university. \n",
    "\n"
   ]
  },
  {
   "cell_type": "code",
   "execution_count": null,
   "metadata": {},
   "outputs": [],
   "source": []
  }
 ],
 "metadata": {
  "kernelspec": {
   "display_name": "Python 3",
   "language": "python",
   "name": "python3"
  },
  "language_info": {
   "codemirror_mode": {
    "name": "ipython",
    "version": 3
   },
   "file_extension": ".py",
   "mimetype": "text/x-python",
   "name": "python",
   "nbconvert_exporter": "python",
   "pygments_lexer": "ipython3",
   "version": "3.7.6"
  }
 },
 "nbformat": 4,
 "nbformat_minor": 4
}

{
 "cells": [
  {
   "cell_type": "markdown",
   "metadata": {},
   "source": [
    "## 1. Introduction"
   ]
  },
  {
   "cell_type": "markdown",
   "metadata": {},
   "source": [
    "### 1.1 Background"
   ]
  },
  {
   "cell_type": "markdown",
   "metadata": {},
   "source": [
    "Recenlty there has been a sharp increase of investments in the education sector in UAE. With the increase in demand and variety of education options available, people are being more inclined towards investing their money in opening new schools, colleges or universities."
   ]
  },
  {
   "cell_type": "markdown",
   "metadata": {},
   "source": [
    "### 1.2 Problem"
   ]
  },
  {
   "cell_type": "markdown",
   "metadata": {},
   "source": [
    "A client is interested in investing in UAE by opening up a branch of a famous UK University. To avoid competition, he believes this university should be opened in an area where there are least number of other universities. Out of seven Emirates in UAE, the client is only interested in Dubai, Sharjah and Abu Dhabi.  As a Data Scientist , it is my responsibilty to analyze the data of these three Emirates and suggest him the best city to open his new university."
   ]
  },
  {
   "cell_type": "markdown",
   "metadata": {},
   "source": [
    "## Data"
   ]
  },
  {
   "cell_type": "markdown",
   "metadata": {},
   "source": [
    "### 2.1 Data Collection"
   ]
  },
  {
   "cell_type": "markdown",
   "metadata": {},
   "source": [
    "After deep consideration to solve this problem, I decided to use Foursquare. \n",
    "\n",
    "Foursquare will give me data of the locations of universities in Dubai, Sharjah and Abu Dhabi. I can then count the number of universities in these locations. This can help in estimating the ideal location of a new setup. For example, if Sharjah has the lowest number of universities, client would potentially be interested in Sharjah."
   ]
  },
  {
   "cell_type": "code",
   "execution_count": null,
   "metadata": {},
   "outputs": [],
   "source": []
  }
 ],
 "metadata": {
  "kernelspec": {
   "display_name": "Python 3",
   "language": "python",
   "name": "python3"
  },
  "language_info": {
   "codemirror_mode": {
    "name": "ipython",
    "version": 3
   },
   "file_extension": ".py",
   "mimetype": "text/x-python",
   "name": "python",
   "nbconvert_exporter": "python",
   "pygments_lexer": "ipython3",
   "version": "3.7.6"
  }
 },
 "nbformat": 4,
 "nbformat_minor": 4
}
